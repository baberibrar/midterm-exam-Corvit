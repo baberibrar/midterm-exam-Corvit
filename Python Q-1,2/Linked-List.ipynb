{
 "cells": [
  {
   "cell_type": "markdown",
   "metadata": {},
   "source": [
    "Question no. 1\n",
    "Reverse traversing in singly linked list and doubly linked list using Python Classes"
   ]
  },
  {
   "cell_type": "code",
   "execution_count": 9,
   "metadata": {},
   "outputs": [],
   "source": [
    "# Single Linked List Implementation in Python\n",
    "def __init__(self,data):\n",
    "        self.data = data\n",
    "        self.next = None\n",
    "        \n",
    "class Singlelinklist():\n",
    "    \n",
    "    def __init__(self):\n",
    "        self.start = None\n",
    "        self.end = None\n",
    "        \n",
    "    def append_last(self, data):\n",
    "        node = Node(data)\n",
    "        if self.start is None:\n",
    "            self.start = node\n",
    "            self.end = node\n",
    "            return \n",
    "        self.end.next = node\n",
    "        self.end = node\n",
    "        \n",
    "        \n",
    "    def traverse(self):\n",
    "        temp = self.start\n",
    "        while True:\n",
    "            print(\"data>>> \", temp.data) \n",
    "            if temp.next is None:\n",
    "                break\n",
    "            temp = temp.next\n",
    "            \n",
    "    def rev_traverse(self):\n",
    "        stack = []\n",
    "        temp = self.start\n",
    "        while True:\n",
    "            stack.append(temp.data) \n",
    "            if temp.next is None:\n",
    "                break\n",
    "            temp = temp.next\n",
    "        \n",
    "        stack.reverse()\n",
    "        return stack"
   ]
  },
  {
   "cell_type": "code",
   "execution_count": 10,
   "metadata": {},
   "outputs": [
    {
     "name": "stdout",
     "output_type": "stream",
     "text": [
      "data>>>  5\n",
      "data>>>  10\n",
      "data>>>  15\n",
      "    Reverse Traverse\n",
      "data>>>  15\n",
      "data>>>  10\n",
      "data>>>  5\n"
     ]
    }
   ],
   "source": [
    "a = Singlelinklist()\n",
    "a.append_last(5)\n",
    "a.append_last(10)\n",
    "a.append_last(15)\n",
    "\n",
    "a.traverse()\n",
    "print('    Reverse Traverse')\n",
    "lst = a.rev_traverse()\n",
    "for num in lst:\n",
    "    print('data>>> ',num)"
   ]
  },
  {
   "cell_type": "code",
   "execution_count": 12,
   "metadata": {},
   "outputs": [],
   "source": [
    "# Double Linked List Implementation in Python\n",
    "class Node():\n",
    "    \n",
    "    def __init__(self, data):\n",
    "        self.data = data\n",
    "        self.next = None\n",
    "        self.prev = None\n",
    "        \n",
    "class DoubleLinkedList():\n",
    "    def __init__(self):\n",
    "        self.start = None\n",
    "        self.end = None\n",
    "        \n",
    "    def add_node(self,data):\n",
    "        node = Node(data)\n",
    "        if self.start is None:\n",
    "            self.start = node\n",
    "            self.end = node\n",
    "            return \n",
    "        self.end.next = node\n",
    "        node.prev = self.end\n",
    "        self.end = node\n",
    "              \n",
    "    def traverse(self):\n",
    "        temp = self.start\n",
    "        while temp is not None:\n",
    "            print(\"data>>> \", temp.data)\n",
    "            temp = temp.next\n",
    "            \n",
    "    def rev_trav(self):\n",
    "        temp = self.end\n",
    "        while temp is not None:\n",
    "            print(\"data>>> \", temp.data)\n",
    "            temp = temp.prev"
   ]
  },
  {
   "cell_type": "code",
   "execution_count": 14,
   "metadata": {},
   "outputs": [
    {
     "name": "stdout",
     "output_type": "stream",
     "text": [
      "data>>>  5\n",
      "data>>>  10\n",
      "data>>>  15\n",
      "     Reverse Traverse\n",
      "data>>>  15\n",
      "data>>>  10\n",
      "data>>>  5\n"
     ]
    }
   ],
   "source": [
    "a = DoubleLinkedList()\n",
    "a.add_node(5)\n",
    "a.add_node(10)\n",
    "a.add_node(15)\n",
    "\n",
    "a.traverse()\n",
    "print('     Reverse Traverse')\n",
    "a.rev_trav()"
   ]
  },
  {
   "cell_type": "code",
   "execution_count": null,
   "metadata": {},
   "outputs": [],
   "source": []
  }
 ],
 "metadata": {
  "kernelspec": {
   "display_name": "Python 3",
   "language": "python",
   "name": "python3"
  },
  "language_info": {
   "codemirror_mode": {
    "name": "ipython",
    "version": 3
   },
   "file_extension": ".py",
   "mimetype": "text/x-python",
   "name": "python",
   "nbconvert_exporter": "python",
   "pygments_lexer": "ipython3",
   "version": "3.8.5"
  }
 },
 "nbformat": 4,
 "nbformat_minor": 4
}
